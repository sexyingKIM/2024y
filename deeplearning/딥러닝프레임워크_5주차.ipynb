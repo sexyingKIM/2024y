{
  "nbformat": 4,
  "nbformat_minor": 0,
  "metadata": {
    "colab": {
      "provenance": []
    },
    "kernelspec": {
      "name": "python3",
      "display_name": "Python 3"
    },
    "language_info": {
      "name": "python"
    }
  },
  "cells": [
    {
      "cell_type": "code",
      "execution_count": 1,
      "metadata": {
        "id": "nKsU9CkwdL8i"
      },
      "outputs": [],
      "source": [
        "import pandas as pd\n",
        "import numpy as np"
      ]
    },
    {
      "cell_type": "code",
      "source": [
        "pip install pycham"
      ],
      "metadata": {
        "colab": {
          "base_uri": "https://localhost:8080/"
        },
        "id": "3Wl3iObKdMRH",
        "outputId": "ea7600a3-b3e8-4af6-fb48-b9af7a643e7c"
      },
      "execution_count": 2,
      "outputs": [
        {
          "output_type": "stream",
          "name": "stdout",
          "text": [
            "Collecting pycham\n",
            "  Downloading PyCHAM-2.1.9-py3-none-any.whl (1.2 MB)\n",
            "\u001b[2K     \u001b[90m━━━━━━━━━━━━━━━━━━━━━━━━━━━━━━━━━━━━━━━━\u001b[0m \u001b[32m1.2/1.2 MB\u001b[0m \u001b[31m7.3 MB/s\u001b[0m eta \u001b[36m0:00:00\u001b[0m\n",
            "\u001b[?25hCollecting PyQt5 (from pycham)\n",
            "  Downloading PyQt5-5.15.10-cp37-abi3-manylinux_2_17_x86_64.whl (8.2 MB)\n",
            "\u001b[2K     \u001b[90m━━━━━━━━━━━━━━━━━━━━━━━━━━━━━━━━━━━━━━━━\u001b[0m \u001b[32m8.2/8.2 MB\u001b[0m \u001b[31m6.6 MB/s\u001b[0m eta \u001b[36m0:00:00\u001b[0m\n",
            "\u001b[?25hRequirement already satisfied: pickleshare in /usr/local/lib/python3.10/dist-packages (from pycham) (0.7.5)\n",
            "Requirement already satisfied: numpy in /usr/local/lib/python3.10/dist-packages (from pycham) (1.25.2)\n",
            "Requirement already satisfied: backcall in /usr/local/lib/python3.10/dist-packages (from pycham) (0.2.0)\n",
            "Requirement already satisfied: certifi in /usr/local/lib/python3.10/dist-packages (from pycham) (2024.2.2)\n",
            "Requirement already satisfied: cycler in /usr/local/lib/python3.10/dist-packages (from pycham) (0.12.1)\n",
            "Requirement already satisfied: decorator in /usr/local/lib/python3.10/dist-packages (from pycham) (4.4.2)\n",
            "Collecting gitpython (from pycham)\n",
            "  Downloading GitPython-3.1.43-py3-none-any.whl (207 kB)\n",
            "\u001b[2K     \u001b[90m━━━━━━━━━━━━━━━━━━━━━━━━━━━━━━━━━━━━━━━━\u001b[0m \u001b[32m207.3/207.3 kB\u001b[0m \u001b[31m4.2 MB/s\u001b[0m eta \u001b[36m0:00:00\u001b[0m\n",
            "\u001b[?25hCollecting ipdb (from pycham)\n",
            "  Downloading ipdb-0.13.13-py3-none-any.whl (12 kB)\n",
            "Requirement already satisfied: matplotlib in /usr/local/lib/python3.10/dist-packages (from pycham) (3.7.1)\n",
            "Requirement already satisfied: scipy in /usr/local/lib/python3.10/dist-packages (from pycham) (1.11.4)\n",
            "Collecting xmltodict (from pycham)\n",
            "  Downloading xmltodict-0.13.0-py2.py3-none-any.whl (10.0 kB)\n",
            "Requirement already satisfied: requests in /usr/local/lib/python3.10/dist-packages (from pycham) (2.31.0)\n",
            "Collecting gitdb<5,>=4.0.1 (from gitpython->pycham)\n",
            "  Downloading gitdb-4.0.11-py3-none-any.whl (62 kB)\n",
            "\u001b[2K     \u001b[90m━━━━━━━━━━━━━━━━━━━━━━━━━━━━━━━━━━━━━━━━\u001b[0m \u001b[32m62.7/62.7 kB\u001b[0m \u001b[31m4.2 MB/s\u001b[0m eta \u001b[36m0:00:00\u001b[0m\n",
            "\u001b[?25hRequirement already satisfied: ipython>=7.31.1 in /usr/local/lib/python3.10/dist-packages (from ipdb->pycham) (7.34.0)\n",
            "Requirement already satisfied: tomli in /usr/local/lib/python3.10/dist-packages (from ipdb->pycham) (2.0.1)\n",
            "Requirement already satisfied: contourpy>=1.0.1 in /usr/local/lib/python3.10/dist-packages (from matplotlib->pycham) (1.2.0)\n",
            "Requirement already satisfied: fonttools>=4.22.0 in /usr/local/lib/python3.10/dist-packages (from matplotlib->pycham) (4.50.0)\n",
            "Requirement already satisfied: kiwisolver>=1.0.1 in /usr/local/lib/python3.10/dist-packages (from matplotlib->pycham) (1.4.5)\n",
            "Requirement already satisfied: packaging>=20.0 in /usr/local/lib/python3.10/dist-packages (from matplotlib->pycham) (24.0)\n",
            "Requirement already satisfied: pillow>=6.2.0 in /usr/local/lib/python3.10/dist-packages (from matplotlib->pycham) (9.4.0)\n",
            "Requirement already satisfied: pyparsing>=2.3.1 in /usr/local/lib/python3.10/dist-packages (from matplotlib->pycham) (3.1.2)\n",
            "Requirement already satisfied: python-dateutil>=2.7 in /usr/local/lib/python3.10/dist-packages (from matplotlib->pycham) (2.8.2)\n",
            "Collecting PyQt5-sip<13,>=12.13 (from PyQt5->pycham)\n",
            "  Downloading PyQt5_sip-12.13.0-cp310-cp310-manylinux_2_5_x86_64.manylinux1_x86_64.whl (338 kB)\n",
            "\u001b[2K     \u001b[90m━━━━━━━━━━━━━━━━━━━━━━━━━━━━━━━━━━━━━━━━\u001b[0m \u001b[32m338.1/338.1 kB\u001b[0m \u001b[31m5.2 MB/s\u001b[0m eta \u001b[36m0:00:00\u001b[0m\n",
            "\u001b[?25hCollecting PyQt5-Qt5>=5.15.2 (from PyQt5->pycham)\n",
            "  Downloading PyQt5_Qt5-5.15.2-py3-none-manylinux2014_x86_64.whl (59.9 MB)\n",
            "\u001b[2K     \u001b[90m━━━━━━━━━━━━━━━━━━━━━━━━━━━━━━━━━━━━━━━━\u001b[0m \u001b[32m59.9/59.9 MB\u001b[0m \u001b[31m5.2 MB/s\u001b[0m eta \u001b[36m0:00:00\u001b[0m\n",
            "\u001b[?25hRequirement already satisfied: charset-normalizer<4,>=2 in /usr/local/lib/python3.10/dist-packages (from requests->pycham) (3.3.2)\n",
            "Requirement already satisfied: idna<4,>=2.5 in /usr/local/lib/python3.10/dist-packages (from requests->pycham) (3.6)\n",
            "Requirement already satisfied: urllib3<3,>=1.21.1 in /usr/local/lib/python3.10/dist-packages (from requests->pycham) (2.0.7)\n",
            "Collecting smmap<6,>=3.0.1 (from gitdb<5,>=4.0.1->gitpython->pycham)\n",
            "  Downloading smmap-5.0.1-py3-none-any.whl (24 kB)\n",
            "Requirement already satisfied: setuptools>=18.5 in /usr/local/lib/python3.10/dist-packages (from ipython>=7.31.1->ipdb->pycham) (67.7.2)\n",
            "Collecting jedi>=0.16 (from ipython>=7.31.1->ipdb->pycham)\n",
            "  Downloading jedi-0.19.1-py2.py3-none-any.whl (1.6 MB)\n",
            "\u001b[2K     \u001b[90m━━━━━━━━━━━━━━━━━━━━━━━━━━━━━━━━━━━━━━━━\u001b[0m \u001b[32m1.6/1.6 MB\u001b[0m \u001b[31m10.1 MB/s\u001b[0m eta \u001b[36m0:00:00\u001b[0m\n",
            "\u001b[?25hRequirement already satisfied: traitlets>=4.2 in /usr/local/lib/python3.10/dist-packages (from ipython>=7.31.1->ipdb->pycham) (5.7.1)\n",
            "Requirement already satisfied: prompt-toolkit!=3.0.0,!=3.0.1,<3.1.0,>=2.0.0 in /usr/local/lib/python3.10/dist-packages (from ipython>=7.31.1->ipdb->pycham) (3.0.43)\n",
            "Requirement already satisfied: pygments in /usr/local/lib/python3.10/dist-packages (from ipython>=7.31.1->ipdb->pycham) (2.16.1)\n",
            "Requirement already satisfied: matplotlib-inline in /usr/local/lib/python3.10/dist-packages (from ipython>=7.31.1->ipdb->pycham) (0.1.6)\n",
            "Requirement already satisfied: pexpect>4.3 in /usr/local/lib/python3.10/dist-packages (from ipython>=7.31.1->ipdb->pycham) (4.9.0)\n",
            "Requirement already satisfied: six>=1.5 in /usr/local/lib/python3.10/dist-packages (from python-dateutil>=2.7->matplotlib->pycham) (1.16.0)\n",
            "Requirement already satisfied: parso<0.9.0,>=0.8.3 in /usr/local/lib/python3.10/dist-packages (from jedi>=0.16->ipython>=7.31.1->ipdb->pycham) (0.8.3)\n",
            "Requirement already satisfied: ptyprocess>=0.5 in /usr/local/lib/python3.10/dist-packages (from pexpect>4.3->ipython>=7.31.1->ipdb->pycham) (0.7.0)\n",
            "Requirement already satisfied: wcwidth in /usr/local/lib/python3.10/dist-packages (from prompt-toolkit!=3.0.0,!=3.0.1,<3.1.0,>=2.0.0->ipython>=7.31.1->ipdb->pycham) (0.2.13)\n",
            "Installing collected packages: PyQt5-Qt5, xmltodict, smmap, PyQt5-sip, jedi, PyQt5, gitdb, ipdb, gitpython, pycham\n",
            "Successfully installed PyQt5-5.15.10 PyQt5-Qt5-5.15.2 PyQt5-sip-12.13.0 gitdb-4.0.11 gitpython-3.1.43 ipdb-0.13.13 jedi-0.19.1 pycham-2.1.9 smmap-5.0.1 xmltodict-0.13.0\n"
          ]
        }
      ]
    },
    {
      "cell_type": "markdown",
      "source": [
        "# 참조 카운터\n",
        "\n",
        "- 메모리 관리의 기본"
      ],
      "metadata": {
        "id": "54cClJrCdO2k"
      }
    },
    {
      "cell_type": "code",
      "source": [
        "class obj:\n",
        "  pass\n",
        "def f(x):\n",
        "  print(x)\n",
        "\n",
        "a=obj()\n",
        "f(a)\n",
        "a=None"
      ],
      "metadata": {
        "colab": {
          "base_uri": "https://localhost:8080/"
        },
        "id": "Y71MH0CWdNc3",
        "outputId": "4fb82c28-1709-4089-88dd-4d3f25f9f23b"
      },
      "execution_count": 8,
      "outputs": [
        {
          "output_type": "stream",
          "name": "stdout",
          "text": [
            "<__main__.obj object at 0x7c5383855ff0>\n"
          ]
        }
      ]
    },
    {
      "cell_type": "markdown",
      "source": [
        "<순환 참조>\n",
        "\n",
        "참조 카운트로는 해결할 수 없는 문제\n",
        "\n",
        "a = b = c = None 해도 메모리에서 삭제가 안됌\n",
        "\n",
        "<GC>\n",
        "\n",
        "- 메모리가 부족해지는 시점에서 자동호출\n",
        "\n",
        "- 메모리 해제를 GC에 미루다 보면 메모리 사용량이 커짐\n",
        "\n",
        "- DeZero 개발할 때는 순환참조를 만드지 않는 것이 좋음"
      ],
      "metadata": {
        "id": "xlPKLzlxdq8Q"
      }
    },
    {
      "cell_type": "code",
      "source": [
        "a=obj()\n",
        "b=obj()\n",
        "c=obj()\n",
        "\n",
        "a.b = b\n",
        "a.c = c\n",
        "a = b = c =None"
      ],
      "metadata": {
        "id": "A5DHhJLZdXn2"
      },
      "execution_count": 7,
      "outputs": []
    },
    {
      "cell_type": "markdown",
      "source": [
        "# Weakref 모듈"
      ],
      "metadata": {
        "id": "9SJPru4EeCc6"
      }
    },
    {
      "cell_type": "code",
      "source": [
        "class Variable:\n",
        "  def __init__(self, data):\n",
        "    if data is not None:\n",
        "      if not isinstance(data, np.ndarray):\n",
        "        raise TypeError('{} in not supported'.format(type(data)))\n",
        "\n",
        "    self.data = data\n",
        "    self.grad = None\n",
        "    self.creator = None\n",
        "    self.generation = 0  # generation 을 0으로 초기화\n",
        "\n",
        "  def set_creator(self, func):\n",
        "    self.creator = func\n",
        "    self.generation = func.generation + 1 # set_creator 호출될때 부모 함수의 세대보다 1만큼 큰 값을 설정\n",
        "\n",
        "  def backward(self):\n",
        "    if self.grad is None:\n",
        "      self.grad = np.ones_like(self.data)\n",
        "\n",
        "      funcs = []\n",
        "      seen_set = set()\n",
        "\n",
        "      def add_func(f):\n",
        "        if f not in seen_set:\n",
        "          funcs.append(f)\n",
        "          seen_set.add(f)\n",
        "          funcs.sort(key=lambda x:x.generation)\n",
        "\n",
        "      while funcs:\n",
        "        f = funcs.pop()\n",
        "        gys = [output().grad for output in f.outputs] # 여러 개의 변수에 대응 가능\n",
        "        gxs = f.backward(*gys)\n",
        "        if not isinstance(gxs, tuple):\n",
        "          gxs = (gxs, )\n",
        "\n",
        "        for x, gx in zip(f.inputs, gxs):\n",
        "          if x.grad is None: # 미분값(grad)을 처음 설정하는 경우 출력에서 전해지는 미분값으로 대입\n",
        "            x.grad = gx      # 처음 이후 부터는 전달된 미분값을 더해주도록 수정\n",
        "          else:\n",
        "            x.grad = x.grad + gx\n",
        "\n",
        "        if x.creator is not None:\n",
        "          add_func(x.creator)\n",
        "\n",
        "def as_array(x):\n",
        "  if np.isscalar(x):\n",
        "    return np.array(x)\n",
        "  return x"
      ],
      "metadata": {
        "id": "ymRlonlTee3I"
      },
      "execution_count": 11,
      "outputs": []
    },
    {
      "cell_type": "code",
      "source": [
        "import weakref\n",
        "\n",
        "class Function:\n",
        "  def __call__(self, inputs):\n",
        "    xs = [ x.data for x in inputs ]\n",
        "    ys = self.forward(xs)\n",
        "    outputs = [Variable(as_array(y)) for y in ys]\n",
        "\n",
        "    self.generation = max([x.generation for x in inputs]) #\n",
        "    for output in outputs:\n",
        "      output.set_creator(self)\n",
        "      self.inputs = inputs\n",
        "      self.outputs = [weakref.ref(output) for output in outputs]\n",
        "      return outputs if len(outputs) > 1 else outputs[0]\n",
        "\n",
        "    def forward(self, x):\n",
        "      raise NotImplementedError()\n",
        "\n",
        "    def backward(self, gy):\n",
        "      raise NotImplementedError()"
      ],
      "metadata": {
        "id": "5wq-utZ9dpk6"
      },
      "execution_count": 12,
      "outputs": []
    },
    {
      "cell_type": "markdown",
      "source": [
        "# 동작확인\n",
        "\n",
        "<DeZero 순환 참조 문제 해소 방법>\n",
        "\n",
        "- for 문이 두 번째 반복될 때 x와 y가 덮어 써짐\n",
        "\n",
        "- 사용자는 이전의 계산 그래프를 더 이상 참조하지 않게됨\n",
        "\n",
        "- 참조 카운트가 0이 되므로 이 시점에 계산 그래프에 사용된 메모리가 삭제\n"
      ],
      "metadata": {
        "id": "IX_g8VuyfDX9"
      }
    },
    {
      "cell_type": "markdown",
      "source": [
        "# 메모리 절약 모드"
      ],
      "metadata": {
        "id": "chXz0AsTfZHf"
      }
    },
    {
      "cell_type": "markdown",
      "source": [
        "## DeZero의 역전파 개선\n",
        "\n",
        "- 필요없는 미분값 삭제"
      ],
      "metadata": {
        "id": "LD9CNuk7feOS"
      }
    },
    {
      "cell_type": "markdown",
      "source": [
        "- 현재의 DeZero에서는 y.backward() 를 실행하면 모든 변수가 미분값을 메모리에 유지함\n",
        "\n",
        "- 역전파로 구하고 싶은 미분값은 말단 변수 (x0, x1)뿐일 때가 대부분\n",
        "\n",
        "- 중간 변수에 대해서는 미분값을 제거하는 모드가 추가 필요함."
      ],
      "metadata": {
        "id": "hn5y276sf2aU"
      }
    },
    {
      "cell_type": "code",
      "source": [
        "class Variable:\n",
        "  def __init__(self, data):\n",
        "    if data is not None:\n",
        "      if not isinstance(data, np.ndarray):\n",
        "        raise TypeError('{} in not supported'.format(type(data)))\n",
        "\n",
        "    self.data = data\n",
        "    self.grad = None\n",
        "    self.creator = None\n",
        "    self.generation = 0  # generation 을 0으로 초기화\n",
        "\n",
        "  def set_creator(self, func):\n",
        "    self.creator = func\n",
        "    self.generation = func.generation + 1 # set_creator 호출될때 부모 함수의 세대보다 1만큼 큰 값을 설정\n",
        "\n",
        "  def backward(self, retain_grad = False):\n",
        "    if self.grad is None:\n",
        "      self.grad = np.ones_like(self.data)\n",
        "\n",
        "      funcs = []\n",
        "      seen_set = set()\n",
        "\n",
        "      if not retain_grad:\n",
        "        for y in f.outputs:\n",
        "          y().grad = None\n",
        "\n",
        "      def add_func(f):\n",
        "        if f not in seen_set:\n",
        "          funcs.append(f)\n",
        "          seen_set.add(f)\n",
        "          funcs.sort(key=lambda x:x.generation)\n",
        "\n",
        "      while funcs:\n",
        "        f = funcs.pop()\n",
        "        gys = [output().grad for output in f.outputs] # 여러 개의 변수에 대응 가능\n",
        "        gxs = f.backward(*gys)\n",
        "        if not isinstance(gxs, tuple):\n",
        "          gxs = (gxs, )\n",
        "\n",
        "        for x, gx in zip(f.inputs, gxs):\n",
        "          if x.grad is None: # 미분값(grad)을 처음 설정하는 경우 출력에서 전해지는 미분값으로 대입\n",
        "            x.grad = gx      # 처음 이후 부터는 전달된 미분값을 더해주도록 수정\n",
        "          else:\n",
        "            x.grad = x.grad + gx\n",
        "\n",
        "        if x.creator is not None:\n",
        "          add_func(x.creator)\n",
        "\n",
        "def as_array(x):\n",
        "  if np.isscalar(x):\n",
        "    return np.array(x)\n",
        "  return x"
      ],
      "metadata": {
        "id": "xshm_6rwewMw"
      },
      "execution_count": null,
      "outputs": []
    },
    {
      "cell_type": "markdown",
      "source": [
        "# Config 클래스를 활용한 모드 전환\n",
        "- 순전파만 수행할 경우를 위한 모드 전환\n",
        "\n",
        "- Config 클래스"
      ],
      "metadata": {
        "id": "X8FwH5fDiFj-"
      }
    },
    {
      "cell_type": "code",
      "source": [
        "import weakref\n",
        "\n",
        "class Config:\n",
        "  enable_backprop = True\n",
        "\n",
        "class Function:\n",
        "  def __call__(self, inputs):\n",
        "    xs = [ x.data for x in inputs ]\n",
        "    ys = self.forward(xs)\n",
        "    outputs = [Variable(as_array(y)) for y in ys]\n",
        "\n",
        "    if Config.enable_backprop:\n",
        "      self.generation = max([x.generation for x in inputs]) #\n",
        "      for output in outputs:\n",
        "        output.set_creator(self)\n",
        "      self.inputs = inputs\n",
        "      self.outputs = [weakref.ref(output) for output in outputs]\n",
        "    return outputs if len(outputs) > 1 else outputs[0]\n",
        "\n",
        "    def forward(self, x):\n",
        "      raise NotImplementedError()\n",
        "\n",
        "    def backward(self, gy):\n",
        "      raise NotImplementedError()"
      ],
      "metadata": {
        "id": "T7OfXLFqiEzh"
      },
      "execution_count": 13,
      "outputs": []
    },
    {
      "cell_type": "markdown",
      "source": [
        "# with 문을 활용한 모드 전환\n",
        "- with 블록에 들어갈 때의 처리 (전처리)와 with 블록을 빠져나올 때의 처리(후처리)를 자동으로 수행\n",
        "\n",
        "- with 문의 원리를 이용하여 ‘역전파 비활성 모드’로 전환하려 함\n",
        "\n",
        "- with 블록 안에서만 ‘역전파 비활성 모드’, with 블록을 벗어나면 일반모드"
      ],
      "metadata": {
        "id": "_I44du2Pi0yd"
      }
    },
    {
      "cell_type": "markdown",
      "source": [
        "using_config 함수 구현\n",
        "\n",
        "no_grad 함수 구현"
      ],
      "metadata": {
        "id": "uONKrI0hkZNx"
      }
    },
    {
      "cell_type": "code",
      "source": [
        "import contextlib\n",
        "\n",
        "@contextlib.contextmanager\n",
        "def using_config(name, value):\n",
        "  old_value = getattr(Config, name)\n",
        "  setattr(Config, name, value)\n",
        "  try:\n",
        "    yield\n",
        "  finally:\n",
        "    setattr(Config, name, old_value)\n",
        "\n",
        "def no_grad():\n",
        "  return using_config('enable_backprop', False)\n",
        "\n",
        "with no_grad():\n",
        "  x = Variable(np.array(2.0))\n",
        "  y = square(x)\n",
        "\n",
        "with using_config('enable_backprop',False):\n",
        "  x = Variable(np.array(2.0))\n",
        "  y = square(x)"
      ],
      "metadata": {
        "id": "A6xB8PBTjMP5"
      },
      "execution_count": null,
      "outputs": []
    },
    {
      "cell_type": "code",
      "source": [
        "class Variable:\n",
        "  def __init__(self, data, name = None):\n",
        "    if data is not None:\n",
        "      if not isinstance(data, np.ndarray):\n",
        "        raise TypeError('{} in not supported'.format(type(data)))\n",
        "\n",
        "    self.data = data\n",
        "    self.name = name\n",
        "    self.grad = None\n",
        "    self.creator = None\n",
        "    self.generation = 0  # generation 을 0으로 초기화\n",
        "\n",
        "  def set_creator(self, func):\n",
        "    self.creator = func\n",
        "    self.generation = func.generation + 1 # set_creator 호출될때 부모 함수의 세대보다 1만큼 큰 값을 설정\n",
        "\n",
        "  def backward(self, retain_grad = False):\n",
        "    if self.grad is None:\n",
        "      self.grad = np.ones_like(self.data)\n",
        "\n",
        "      funcs = []\n",
        "      seen_set = set()\n",
        "\n",
        "      if not retain_grad:\n",
        "        for y in f.outputs:\n",
        "          y().grad = None\n",
        "\n",
        "      def add_func(f):\n",
        "        if f not in seen_set:\n",
        "          funcs.append(f)\n",
        "          seen_set.add(f)\n",
        "          funcs.sort(key=lambda x:x.generation)\n",
        "\n",
        "      while funcs:\n",
        "        f = funcs.pop()\n",
        "        gys = [output().grad for output in f.outputs] # 여러 개의 변수에 대응 가능\n",
        "        gxs = f.backward(*gys)\n",
        "        if not isinstance(gxs, tuple):\n",
        "          gxs = (gxs, )\n",
        "\n",
        "        for x, gx in zip(f.inputs, gxs):\n",
        "          if x.grad is None: # 미분값(grad)을 처음 설정하는 경우 출력에서 전해지는 미분값으로 대입\n",
        "            x.grad = gx      # 처음 이후 부터는 전달된 미분값을 더해주도록 수정\n",
        "          else:\n",
        "            x.grad = x.grad + gx\n",
        "\n",
        "        if x.creator is not None:\n",
        "          add_func(x.creator)\n",
        "\n",
        "def as_array(x):\n",
        "  if np.isscalar(x):\n",
        "    return np.array(x)\n",
        "  return x"
      ],
      "metadata": {
        "id": "Xn9vwhv4kWx2"
      },
      "execution_count": 16,
      "outputs": []
    },
    {
      "cell_type": "markdown",
      "source": [
        "# 연산자 오버로드\n",
        "- Mul 클래스 구현"
      ],
      "metadata": {
        "id": "q61p6tqFku2F"
      }
    },
    {
      "cell_type": "code",
      "source": [
        "class Mul(Function):\n",
        "  def forward(self, x0,x1):\n",
        "    y = x0 * x1\n",
        "    return y\n",
        "\n",
        "  def backward(self, gy):\n",
        "    x0,x1 = self.inputs[0].data, self.inputs[1].data\n",
        "    return gy * x1, gy * x0\n",
        "\n",
        "def mul(x0,x1):\n",
        "  return Mul()(x0,x1)"
      ],
      "metadata": {
        "id": "uoJnffWqkqff"
      },
      "execution_count": 17,
      "outputs": []
    },
    {
      "cell_type": "markdown",
      "source": [
        "# 곱셈 연사자 * 오버로드\n",
        "- a * B 실행시 호출 순서\n",
        "\n",
        "1. 인스턴스 a의 특수 메서드인 __mul__이 호출\n",
        "\n",
        "2. 연산자 * 왼쪽의 a가 인수 self에 전달되고, 오른쪽의 b가 other에 전달됨"
      ],
      "metadata": {
        "id": "W4om0l1DlQ5W"
      }
    },
    {
      "cell_type": "code",
      "source": [
        "class Variable:\n",
        "  def __init__(self, data, name = None):\n",
        "    if data is not None:\n",
        "      if not isinstance(data, np.ndarray):\n",
        "        raise TypeError('{} in not supported'.format(type(data)))\n",
        "\n",
        "    self.data = data\n",
        "    self.name = name\n",
        "    self.grad = None\n",
        "    self.creator = None\n",
        "    self.generation = 0  # generation 을 0으로 초기화\n",
        "\n",
        "  def __mul__(self, other):\n",
        "    return mul(self, other)\n",
        "\n",
        "  Variable.__mul__ = mul\n",
        "  Variable.__add__ = add\n",
        "\n",
        "  def set_creator(self, func):\n",
        "    self.creator = func\n",
        "    self.generation = func.generation + 1 # set_creator 호출될때 부모 함수의 세대보다 1만큼 큰 값을 설정\n",
        "\n",
        "  def backward(self, retain_grad = False):\n",
        "    if self.grad is None:\n",
        "      self.grad = np.ones_like(self.data)\n",
        "\n",
        "      funcs = []\n",
        "      seen_set = set()\n",
        "\n",
        "      if not retain_grad:\n",
        "        for y in f.outputs:\n",
        "          y().grad = None\n",
        "\n",
        "      def add_func(f):\n",
        "        if f not in seen_set:\n",
        "          funcs.append(f)\n",
        "          seen_set.add(f)\n",
        "          funcs.sort(key=lambda x:x.generation)\n",
        "\n",
        "      while funcs:\n",
        "        f = funcs.pop()\n",
        "        gys = [output().grad for output in f.outputs] # 여러 개의 변수에 대응 가능\n",
        "        gxs = f.backward(*gys)\n",
        "        if not isinstance(gxs, tuple):\n",
        "          gxs = (gxs, )\n",
        "\n",
        "        for x, gx in zip(f.inputs, gxs):\n",
        "          if x.grad is None: # 미분값(grad)을 처음 설정하는 경우 출력에서 전해지는 미분값으로 대입\n",
        "            x.grad = gx      # 처음 이후 부터는 전달된 미분값을 더해주도록 수정\n",
        "          else:\n",
        "            x.grad = x.grad + gx\n",
        "\n",
        "        if x.creator is not None:\n",
        "          add_func(x.creator)\n",
        "\n",
        "def as_array(x):\n",
        "  if np.isscalar(x):\n",
        "    return np.array(x)\n",
        "  return x"
      ],
      "metadata": {
        "id": "WkjSqvN6lKF3"
      },
      "execution_count": null,
      "outputs": []
    },
    {
      "cell_type": "markdown",
      "source": [
        "# 연산자 오버로드 (ndarray)\n",
        "\n",
        "<ndarray 인스턴스와 수치 데이터와도 함께 사용하도록 개선>\n",
        "\n",
        "- a * np.array(2.0) 처럼 ndarray 인스턴스와 함께 사용할 수 없음\n",
        "\n",
        "- 3 + b 처럼 수치 데이터도 함께 사용할 수 없음\n",
        "\n",
        "- Variable 인스턴스와 ndarray 인스턴스 함께 사용 가능\n",
        "\n",
        "- int 나 float 등도 함께 사용 가능"
      ],
      "metadata": {
        "id": "gYSoWRWWl6fS"
      }
    },
    {
      "cell_type": "code",
      "source": [
        "def as_variable(obj):\n",
        "  if isinstance(obj, Variable):\n",
        "    return obj\n",
        "\n",
        "import weakref\n",
        "\n",
        "class Config:\n",
        "  enable_backprop = True\n",
        "\n",
        "class Function:\n",
        "  def __call__(self, inputs):\n",
        "    inputs = [as_variable(x) for x in inputs]\n",
        "    xs = [ x.data for x in inputs ]\n",
        "    ys = self.forward(xs)\n",
        "    outputs = [Variable(as_array(y)) for y in ys]\n",
        "\n",
        "    if Config.enable_backprop:\n",
        "      self.generation = max([x.generation for x in inputs]) #\n",
        "      for output in outputs:\n",
        "        output.set_creator(self)\n",
        "      self.inputs = inputs\n",
        "      self.outputs = [weakref.ref(output) for output in outputs]\n",
        "    return outputs if len(outputs) > 1 else outputs[0]\n",
        "\n",
        "    def forward(self, x):\n",
        "      raise NotImplementedError()\n",
        "\n",
        "    def backward(self, gy):\n",
        "      raise NotImplementedError()"
      ],
      "metadata": {
        "id": "tsHRkqlil5XP"
      },
      "execution_count": 18,
      "outputs": []
    },
    {
      "cell_type": "markdown",
      "source": [
        "float, int와 함께 사용하기\n",
        "\n",
        "as_array 함수 사용"
      ],
      "metadata": {
        "id": "YsMUPO4fmbdA"
      }
    },
    {
      "cell_type": "code",
      "source": [
        "def as_array(x):\n",
        "  if np.isscalar(x):\n",
        "    return np.array(x)\n",
        "  return x\n",
        "\n",
        "def add(x0,x1):\n",
        "  x1 = as_array(x1)\n",
        "  return Add()(x0,x1)\n"
      ],
      "metadata": {
        "id": "sM8bs2FpmYMR"
      },
      "execution_count": 19,
      "outputs": []
    },
    {
      "cell_type": "markdown",
      "source": [
        "# 연산자 오버로드\n",
        "\n",
        "- 음수 (부호 변환)\n",
        "\n",
        "- 뺄셈\n",
        "\n",
        "- 나눗셈\n",
        "\n",
        "- 거듭제곱"
      ],
      "metadata": {
        "id": "8S8CZRbhnDPf"
      }
    },
    {
      "cell_type": "markdown",
      "source": [
        "1. 음수의 미분\n",
        "\n",
        "▪ 역전파 상류(출력 쪽)에서 전해지는 미분에 -1을 곱하여 하류로 흘려보내 줌\n",
        "\n",
        "▪ Neg 클래스를 구현한 다음 파이썬 함수로 사용할 수 있도록 neg 함수 구현\n",
        "\n",
        "▪ __neg__ 에 neg를 대입하면 완성\n"
      ],
      "metadata": {
        "id": "SroXPu9xnOgr"
      }
    },
    {
      "cell_type": "code",
      "source": [
        "class Neg(Function):\n",
        "  def forward(self, x):\n",
        "    return -x\n",
        "\n",
        "  def backward(self, gy):\n",
        "    return -gy\n",
        "\n",
        "def neg(x):\n",
        "  return Neg()(x)\n",
        "\n",
        "Variable.__neg__ = neg"
      ],
      "metadata": {
        "id": "-AZ5qJDHmuGE"
      },
      "execution_count": 20,
      "outputs": []
    },
    {
      "cell_type": "markdown",
      "source": [
        "2. 뺄셈의 미분\n",
        "\n",
        "▪ 역전파는 상류에서 전해지는 미분값에 1을 곱한 값이 x0의 미분 결과가 되면, -1을\n",
        "곱한 값이 x1의 미분 결과가 됨\n",
        "\n",
        "▪ x0와 x1이 Variable 인스턴스라면 y = x0 – x1 계산을 수행할 수 있음\n",
        "\n"
      ],
      "metadata": {
        "id": "HCTe09eLnhDs"
      }
    },
    {
      "cell_type": "code",
      "source": [
        "class Sub(Function):\n",
        "  def forward(self, x0,x1):\n",
        "    y = x0 - x1\n",
        "    return y\n",
        "\n",
        "  def backward(self, gy):\n",
        "    return gy, -gy\n",
        "\n",
        "def sub(x0,x1):\n",
        "  x1 = as_array(x1)\n",
        "  return Sub()(x0,x1)\n",
        "\n",
        "Variable.__sub__ = sub\n",
        "\n",
        "def rsub(x0,x1):\n",
        "  x1 = as_array(x1)\n",
        "  return sub(x1, x0)\n",
        "Variable.__rsub__= rsub"
      ],
      "metadata": {
        "id": "-gDzZW3_nf55"
      },
      "execution_count": 22,
      "outputs": []
    },
    {
      "cell_type": "markdown",
      "source": [
        "3. 나눗셈의 미분\n",
        "\n",
        "- 나눗셈도 뺄셈과 마찬가지로 좌/우항 주 어느 것에 적용할지에 따라 적용되는 함수가 다름"
      ],
      "metadata": {
        "id": "-aCxOc-xoE8J"
      }
    },
    {
      "cell_type": "code",
      "source": [
        "class Div(Function):\n",
        "  def forward(self, x0,x1):\n",
        "    y = x0/x1\n",
        "    return y\n",
        "\n",
        "  def backward(self, gy):\n",
        "    x0,x1 = self.inputs[0].data, self.inputs[1].data\n",
        "    gx0 = gy / x1\n",
        "    gx1 = gy * (-x0 / x1 ** 2)\n",
        "    return gx0, gx1\n",
        "\n",
        "def div(x0,x1):\n",
        "  x1 = as_array(x1)\n",
        "  return Div()(x0,x1)\n",
        "\n",
        "def rdiv(x0,x1):\n",
        "  x1 = as_array(x1)\n",
        "  return div(x1, x0)\n",
        "\n",
        "Variable.__truediv__ = div\n",
        "Variable.__rtruediv__ = rdiv"
      ],
      "metadata": {
        "id": "RpVrm4Lmn629"
      },
      "execution_count": 23,
      "outputs": []
    },
    {
      "cell_type": "markdown",
      "source": [
        "4. 거듭제곱의 미분\n",
        "\n",
        "- 순전파 메서드인 forward(x)는 밑에 해당하는 x만 받게 함\n",
        "\n",
        "- 특수 메서드인 __pow__ 에 함수 pow를 할당"
      ],
      "metadata": {
        "id": "a3gvF2OFo9g7"
      }
    },
    {
      "cell_type": "code",
      "source": [
        "class Pow(Function):\n",
        "  def __inti__(self,c):\n",
        "    self.c = c\n",
        "\n",
        "  def forward(self, x):\n",
        "    y = x ** self.c\n",
        "    return y\n",
        "\n",
        "  def backward(self, gy):\n",
        "    x = self.inputs[0].data\n",
        "    c = self.c\n",
        "\n",
        "    gx = c * x ** (c-1) * gy\n",
        "    return gx\n",
        "\n",
        "def pow(x,c):\n",
        "  return Pow(c)(x)\n",
        "\n",
        "Variable.__pow__ = pow"
      ],
      "metadata": {
        "id": "yIA35wk9o7uo"
      },
      "execution_count": 24,
      "outputs": []
    },
    {
      "cell_type": "code",
      "source": [],
      "metadata": {
        "id": "tevpo0m_pijm"
      },
      "execution_count": null,
      "outputs": []
    }
  ]
}