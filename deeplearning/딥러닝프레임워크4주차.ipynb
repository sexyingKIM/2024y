{
  "nbformat": 4,
  "nbformat_minor": 0,
  "metadata": {
    "colab": {
      "provenance": [],
      "toc_visible": true
    },
    "kernelspec": {
      "name": "python3",
      "display_name": "Python 3"
    },
    "language_info": {
      "name": "python"
    }
  },
  "cells": [
    {
      "cell_type": "code",
      "execution_count": 8,
      "metadata": {
        "id": "oBBZoR10M4-I"
      },
      "outputs": [],
      "source": [
        "import pandas as pd\n",
        "import numpy as np"
      ]
    },
    {
      "cell_type": "code",
      "source": [
        "pip install pycham"
      ],
      "metadata": {
        "id": "apNkBuyKNV3X",
        "colab": {
          "base_uri": "https://localhost:8080/"
        },
        "outputId": "24eea536-643f-4bbd-dfd6-19427e8bd2b3"
      },
      "execution_count": 9,
      "outputs": [
        {
          "output_type": "stream",
          "name": "stdout",
          "text": [
            "Collecting pycham\n",
            "  Downloading PyCHAM-2.1.9-py3-none-any.whl (1.2 MB)\n",
            "\u001b[2K     \u001b[90m━━━━━━━━━━━━━━━━━━━━━━━━━━━━━━━━━━━━━━━━\u001b[0m \u001b[32m1.2/1.2 MB\u001b[0m \u001b[31m7.0 MB/s\u001b[0m eta \u001b[36m0:00:00\u001b[0m\n",
            "\u001b[?25hCollecting PyQt5 (from pycham)\n",
            "  Downloading PyQt5-5.15.10-cp37-abi3-manylinux_2_17_x86_64.whl (8.2 MB)\n",
            "\u001b[2K     \u001b[90m━━━━━━━━━━━━━━━━━━━━━━━━━━━━━━━━━━━━━━━━\u001b[0m \u001b[32m8.2/8.2 MB\u001b[0m \u001b[31m52.3 MB/s\u001b[0m eta \u001b[36m0:00:00\u001b[0m\n",
            "\u001b[?25hRequirement already satisfied: pickleshare in /usr/local/lib/python3.10/dist-packages (from pycham) (0.7.5)\n",
            "Requirement already satisfied: numpy in /usr/local/lib/python3.10/dist-packages (from pycham) (1.25.2)\n",
            "Requirement already satisfied: backcall in /usr/local/lib/python3.10/dist-packages (from pycham) (0.2.0)\n",
            "Requirement already satisfied: certifi in /usr/local/lib/python3.10/dist-packages (from pycham) (2024.2.2)\n",
            "Requirement already satisfied: cycler in /usr/local/lib/python3.10/dist-packages (from pycham) (0.12.1)\n",
            "Requirement already satisfied: decorator in /usr/local/lib/python3.10/dist-packages (from pycham) (4.4.2)\n",
            "Collecting gitpython (from pycham)\n",
            "  Downloading GitPython-3.1.43-py3-none-any.whl (207 kB)\n",
            "\u001b[2K     \u001b[90m━━━━━━━━━━━━━━━━━━━━━━━━━━━━━━━━━━━━━━━━\u001b[0m \u001b[32m207.3/207.3 kB\u001b[0m \u001b[31m22.3 MB/s\u001b[0m eta \u001b[36m0:00:00\u001b[0m\n",
            "\u001b[?25hCollecting ipdb (from pycham)\n",
            "  Downloading ipdb-0.13.13-py3-none-any.whl (12 kB)\n",
            "Requirement already satisfied: matplotlib in /usr/local/lib/python3.10/dist-packages (from pycham) (3.7.1)\n",
            "Requirement already satisfied: scipy in /usr/local/lib/python3.10/dist-packages (from pycham) (1.11.4)\n",
            "Collecting xmltodict (from pycham)\n",
            "  Downloading xmltodict-0.13.0-py2.py3-none-any.whl (10.0 kB)\n",
            "Requirement already satisfied: requests in /usr/local/lib/python3.10/dist-packages (from pycham) (2.31.0)\n",
            "Collecting gitdb<5,>=4.0.1 (from gitpython->pycham)\n",
            "  Downloading gitdb-4.0.11-py3-none-any.whl (62 kB)\n",
            "\u001b[2K     \u001b[90m━━━━━━━━━━━━━━━━━━━━━━━━━━━━━━━━━━━━━━━━\u001b[0m \u001b[32m62.7/62.7 kB\u001b[0m \u001b[31m7.5 MB/s\u001b[0m eta \u001b[36m0:00:00\u001b[0m\n",
            "\u001b[?25hRequirement already satisfied: ipython>=7.31.1 in /usr/local/lib/python3.10/dist-packages (from ipdb->pycham) (7.34.0)\n",
            "Requirement already satisfied: tomli in /usr/local/lib/python3.10/dist-packages (from ipdb->pycham) (2.0.1)\n",
            "Requirement already satisfied: contourpy>=1.0.1 in /usr/local/lib/python3.10/dist-packages (from matplotlib->pycham) (1.2.0)\n",
            "Requirement already satisfied: fonttools>=4.22.0 in /usr/local/lib/python3.10/dist-packages (from matplotlib->pycham) (4.50.0)\n",
            "Requirement already satisfied: kiwisolver>=1.0.1 in /usr/local/lib/python3.10/dist-packages (from matplotlib->pycham) (1.4.5)\n",
            "Requirement already satisfied: packaging>=20.0 in /usr/local/lib/python3.10/dist-packages (from matplotlib->pycham) (24.0)\n",
            "Requirement already satisfied: pillow>=6.2.0 in /usr/local/lib/python3.10/dist-packages (from matplotlib->pycham) (9.4.0)\n",
            "Requirement already satisfied: pyparsing>=2.3.1 in /usr/local/lib/python3.10/dist-packages (from matplotlib->pycham) (3.1.2)\n",
            "Requirement already satisfied: python-dateutil>=2.7 in /usr/local/lib/python3.10/dist-packages (from matplotlib->pycham) (2.8.2)\n",
            "Collecting PyQt5-sip<13,>=12.13 (from PyQt5->pycham)\n",
            "  Downloading PyQt5_sip-12.13.0-cp310-cp310-manylinux_2_5_x86_64.manylinux1_x86_64.whl (338 kB)\n",
            "\u001b[2K     \u001b[90m━━━━━━━━━━━━━━━━━━━━━━━━━━━━━━━━━━━━━━━━\u001b[0m \u001b[32m338.1/338.1 kB\u001b[0m \u001b[31m33.8 MB/s\u001b[0m eta \u001b[36m0:00:00\u001b[0m\n",
            "\u001b[?25hCollecting PyQt5-Qt5>=5.15.2 (from PyQt5->pycham)\n",
            "  Downloading PyQt5_Qt5-5.15.2-py3-none-manylinux2014_x86_64.whl (59.9 MB)\n",
            "\u001b[2K     \u001b[90m━━━━━━━━━━━━━━━━━━━━━━━━━━━━━━━━━━━━━━━━\u001b[0m \u001b[32m59.9/59.9 MB\u001b[0m \u001b[31m10.2 MB/s\u001b[0m eta \u001b[36m0:00:00\u001b[0m\n",
            "\u001b[?25hRequirement already satisfied: charset-normalizer<4,>=2 in /usr/local/lib/python3.10/dist-packages (from requests->pycham) (3.3.2)\n",
            "Requirement already satisfied: idna<4,>=2.5 in /usr/local/lib/python3.10/dist-packages (from requests->pycham) (3.6)\n",
            "Requirement already satisfied: urllib3<3,>=1.21.1 in /usr/local/lib/python3.10/dist-packages (from requests->pycham) (2.0.7)\n",
            "Collecting smmap<6,>=3.0.1 (from gitdb<5,>=4.0.1->gitpython->pycham)\n",
            "  Downloading smmap-5.0.1-py3-none-any.whl (24 kB)\n",
            "Requirement already satisfied: setuptools>=18.5 in /usr/local/lib/python3.10/dist-packages (from ipython>=7.31.1->ipdb->pycham) (67.7.2)\n",
            "Collecting jedi>=0.16 (from ipython>=7.31.1->ipdb->pycham)\n",
            "  Downloading jedi-0.19.1-py2.py3-none-any.whl (1.6 MB)\n",
            "\u001b[2K     \u001b[90m━━━━━━━━━━━━━━━━━━━━━━━━━━━━━━━━━━━━━━━━\u001b[0m \u001b[32m1.6/1.6 MB\u001b[0m \u001b[31m55.6 MB/s\u001b[0m eta \u001b[36m0:00:00\u001b[0m\n",
            "\u001b[?25hRequirement already satisfied: traitlets>=4.2 in /usr/local/lib/python3.10/dist-packages (from ipython>=7.31.1->ipdb->pycham) (5.7.1)\n",
            "Requirement already satisfied: prompt-toolkit!=3.0.0,!=3.0.1,<3.1.0,>=2.0.0 in /usr/local/lib/python3.10/dist-packages (from ipython>=7.31.1->ipdb->pycham) (3.0.43)\n",
            "Requirement already satisfied: pygments in /usr/local/lib/python3.10/dist-packages (from ipython>=7.31.1->ipdb->pycham) (2.16.1)\n",
            "Requirement already satisfied: matplotlib-inline in /usr/local/lib/python3.10/dist-packages (from ipython>=7.31.1->ipdb->pycham) (0.1.6)\n",
            "Requirement already satisfied: pexpect>4.3 in /usr/local/lib/python3.10/dist-packages (from ipython>=7.31.1->ipdb->pycham) (4.9.0)\n",
            "Requirement already satisfied: six>=1.5 in /usr/local/lib/python3.10/dist-packages (from python-dateutil>=2.7->matplotlib->pycham) (1.16.0)\n",
            "Requirement already satisfied: parso<0.9.0,>=0.8.3 in /usr/local/lib/python3.10/dist-packages (from jedi>=0.16->ipython>=7.31.1->ipdb->pycham) (0.8.3)\n",
            "Requirement already satisfied: ptyprocess>=0.5 in /usr/local/lib/python3.10/dist-packages (from pexpect>4.3->ipython>=7.31.1->ipdb->pycham) (0.7.0)\n",
            "Requirement already satisfied: wcwidth in /usr/local/lib/python3.10/dist-packages (from prompt-toolkit!=3.0.0,!=3.0.1,<3.1.0,>=2.0.0->ipython>=7.31.1->ipdb->pycham) (0.2.13)\n",
            "Installing collected packages: PyQt5-Qt5, xmltodict, smmap, PyQt5-sip, jedi, PyQt5, gitdb, ipdb, gitpython, pycham\n",
            "Successfully installed PyQt5-5.15.10 PyQt5-Qt5-5.15.2 PyQt5-sip-12.13.0 gitdb-4.0.11 gitpython-3.1.43 ipdb-0.13.13 jedi-0.19.1 pycham-2.1.9 smmap-5.0.1 xmltodict-0.13.0\n"
          ]
        }
      ]
    },
    {
      "cell_type": "code",
      "source": [
        "# class Variable:\n",
        "#   def __init__(self, data):\n",
        "#     if data is not None:\n",
        "#       if not isinstance(data, np.ndarray):\n",
        "#         raise TypeError('{} in not supported'.format(type(data)))\n",
        "\n",
        "#     self.data = data\n",
        "#     self.grad = None\n",
        "#     self.creator = None\n",
        "\n",
        "class Variable:\n",
        "  def __init__(self, data):\n",
        "    self.data = data\n",
        "    self.grad = None\n",
        "    self.creator = None\n",
        "\n",
        "  def set_creator(self, func):\n",
        "    self.creator = func\n",
        "\n",
        "  def backward(self):\n",
        "    if self.grad is None:\n",
        "      self.grad = np.ones_like(self.data)\n",
        "\n",
        "      funcs = [self.creator]\n",
        "      while funcs:\n",
        "        f = funcs.pop()\n",
        "        x, y = f.input, f.output\n",
        "        x.grad = f.backward(y.grad)\n",
        "\n",
        "        if x.creator is not None:\n",
        "          funcs.append(x.creator)\n",
        "\n",
        "\n",
        "def as_array(x):\n",
        "  if np.isscalar(x):\n",
        "    return np.array(x)\n",
        "  return x"
      ],
      "metadata": {
        "id": "iMz115LROE1T"
      },
      "execution_count": 19,
      "outputs": []
    },
    {
      "cell_type": "markdown",
      "source": [
        "# Function 클래스 수정 (인수와 반환값을 리스트로 변경)\n",
        "- Variable 에서 실제 데이터를 추출\n",
        "- 순전파 메서드에서 구체적인 계산을 수행\n",
        "- 계산 결과를 Variable 넣음"
      ],
      "metadata": {
        "id": "yYOm9v5jL_gR"
      }
    },
    {
      "cell_type": "code",
      "source": [
        "class Function:\n",
        "  def __call__(self, inputs):\n",
        "    xs = [ x.data for x in inputs ]\n",
        "    ys = self.forward(xs)\n",
        "    outputs = [Variable(as_array(y)) for y in ys]\n",
        "\n",
        "    for output in outputs:\n",
        "      output.set_creator(self)\n",
        "      self.inputs = inputs\n",
        "      self.outputs = outputs\n",
        "      return outputs\n",
        "\n",
        "    def forward(self, x):\n",
        "      raise NotImplementedError()\n",
        "\n",
        "    def backward(self, gy):\n",
        "      raise NotImplementedError()\n"
      ],
      "metadata": {
        "id": "KxqeJdqVL_Ci"
      },
      "execution_count": 20,
      "outputs": []
    },
    {
      "cell_type": "markdown",
      "source": [
        "# Add 클래스 구현\n",
        "- 인수, 반환값 = List or Tupple\n",
        "- 인수는 변수가 두개 담긴 list\n",
        "- 결과 = tupple"
      ],
      "metadata": {
        "id": "9UwsiaNYNY4J"
      }
    },
    {
      "cell_type": "code",
      "source": [
        "class Add(Function):\n",
        "  def forward(self, xs):\n",
        "    x0, x1 = xs\n",
        "    y = x0 + x1\n",
        "    return (y, )\n"
      ],
      "metadata": {
        "id": "QdE3ex7NNMqY"
      },
      "execution_count": 30,
      "outputs": []
    },
    {
      "cell_type": "markdown",
      "source": [
        "- 개선점 필요\n",
        "\n",
        "입력시 변수를 리스트로 전달하도록 요청\n",
        "\n",
        "반환값 튜플로 전달\n",
        "\n",
        "사용시 복잡\n"
      ],
      "metadata": {
        "id": "grRr2sjQY08e"
      }
    },
    {
      "cell_type": "code",
      "source": [
        "\n",
        "xs = [Variable(np.array(2)), Variable(np.array(3))]\n",
        "f = Add()\n",
        "ys = f(xs)\n",
        "y = ys[0]\n",
        "print(y.data)"
      ],
      "metadata": {
        "colab": {
          "base_uri": "https://localhost:8080/"
        },
        "id": "OPRjXW_LNt-r",
        "outputId": "7f907e62-8d3a-4220-d110-81bdd14ae521"
      },
      "execution_count": 22,
      "outputs": [
        {
          "output_type": "stream",
          "name": "stdout",
          "text": [
            "5\n"
          ]
        }
      ]
    },
    {
      "cell_type": "markdown",
      "source": [
        "# Add class 개선하기"
      ],
      "metadata": {
        "id": "CPcew6VEQbJt"
      }
    },
    {
      "cell_type": "markdown",
      "source": [
        "## 첫번째 : 함수 사용 쉽게"
      ],
      "metadata": {
        "id": "JEpPhm4kQeeP"
      }
    },
    {
      "cell_type": "markdown",
      "source": [
        "개선사항\n",
        "- 리스트나 튜플을 거치지 않고 인수와 결과를 직접 주고받도록 함."
      ],
      "metadata": {
        "id": "mR9a_40BZBMy"
      }
    },
    {
      "cell_type": "code",
      "source": [
        "class Function:\n",
        "  def __call__(self ,* inputs): # 함수 정의할 때 인수 앞 별표(*) 붙이기\n",
        "    xs = [ x.data for x in inputs ]\n",
        "    ys = self.forward(xs)\n",
        "    outputs = [Variable(as_array(y)) for y in ys]\n",
        "\n",
        "    for output in outputs:\n",
        "      output.set_creator(self)\n",
        "      self.inputs = inputs\n",
        "      self.outputs = outputs\n",
        "      return outputs if len(outputs) > 1 else outputs[0] # 반환값이 하나가 아니면 변수를 직접 돌려줌\n",
        "\n",
        "    def forward(self, x):\n",
        "      raise NotImplementedError()\n",
        "\n",
        "    def backward(self, gy):\n",
        "      raise NotImplementedError()\n",
        "\n",
        "\n",
        "class Add(Function):\n",
        "  def forward(self, xs):\n",
        "    x0, x1 = xs\n",
        "    y = x0 + x1\n",
        "    return (y, )\n"
      ],
      "metadata": {
        "id": "SnSik3F9N6EP"
      },
      "execution_count": 29,
      "outputs": []
    },
    {
      "cell_type": "markdown",
      "source": [
        "전에 비해서 확실히 계산이 편해짐"
      ],
      "metadata": {
        "id": "JSFBAsAuRji4"
      }
    },
    {
      "cell_type": "code",
      "source": [
        "x0 = Variable(np.array(2))\n",
        "x1 = Variable(np.array(3))\n",
        "f = Add()\n",
        "y = f(x0,x1)\n",
        "print(y.data)"
      ],
      "metadata": {
        "colab": {
          "base_uri": "https://localhost:8080/"
        },
        "id": "iMV2p06pQ1On",
        "outputId": "0ef374dc-cc0c-4173-e155-8ddaa8e97cfe"
      },
      "execution_count": 31,
      "outputs": [
        {
          "output_type": "stream",
          "name": "stdout",
          "text": [
            "5\n"
          ]
        }
      ]
    },
    {
      "cell_type": "markdown",
      "source": [
        "## 두 번째 : 함수를 구현하기 쉽도록"
      ],
      "metadata": {
        "id": "ZTeKwLluRnim"
      }
    },
    {
      "cell_type": "markdown",
      "source": [
        "- Add 클래스 구현을 위한 개선\n",
        "forward 메서드의 코드를 입력도 변수로 받고, 결과도 변수로 반환"
      ],
      "metadata": {
        "id": "4Xpt6l6HZKRT"
      }
    },
    {
      "cell_type": "markdown",
      "source": [
        "- Funtion 클래스 수정\n",
        "\n",
        "리스트 언팩사용\n",
        "\n",
        "forward 반환값이 튜플이 아닌 경우 튜플로 변경"
      ],
      "metadata": {
        "id": "GmWm1HioZUkt"
      }
    },
    {
      "cell_type": "code",
      "source": [
        "from ast import YieldFrom\n",
        "class Function:\n",
        "  def __call__(self ,* inputs): # 함수 정의할 때 인수 앞 별표(*) 붙이기\n",
        "    xs = [ x.data for x in inputs ]\n",
        "    ys = self.forward(*xs)\n",
        "    if not isinstance(ys, tuple):  # 함수 호출할 때 별표(*)\n",
        "      ys = (ys,)                   # 튜플 값이 아닌 경우 튜플로 변경\n",
        "    outputs = [Variable(as_array(y)) for y in ys]\n",
        "\n",
        "    for output in outputs:\n",
        "      output.set_creator(self)\n",
        "      self.inputs = inputs\n",
        "      self.outputs = outputs\n",
        "      return outputs if len(outputs) > 1 else outputs[0] # 반환값이 하나가 아니면 변수를 직접 돌려줌\n",
        "\n",
        "    def forward(self, x):\n",
        "      raise NotImplementedError()\n",
        "\n",
        "    def backward(self, gy):\n",
        "      raise NotImplementedError()\n",
        "\n",
        "\n",
        "class Add(Function):\n",
        "  def forward(self, x0, x1):\n",
        "    y = x0 + x1\n",
        "    return y\n"
      ],
      "metadata": {
        "id": "dmtT5LDSROuk"
      },
      "execution_count": 34,
      "outputs": []
    },
    {
      "cell_type": "markdown",
      "source": [
        "Add -> add 함수로 개선 완료"
      ],
      "metadata": {
        "id": "UR25aoQJSeIO"
      }
    },
    {
      "cell_type": "code",
      "source": [
        "def add(x0, x1):\n",
        "  return Add()(x0,x1)\n",
        "\n",
        "x0 = Variable(np.array(2))\n",
        "x1 = Variable(np.array(3))\n",
        "y = add(x0,x1)\n",
        "print(y.data)"
      ],
      "metadata": {
        "colab": {
          "base_uri": "https://localhost:8080/"
        },
        "id": "QUgU0QKWR1mQ",
        "outputId": "f4816aae-24ac-47fe-d81e-b896bb919637"
      },
      "execution_count": 37,
      "outputs": [
        {
          "output_type": "stream",
          "name": "stdout",
          "text": [
            "5\n"
          ]
        }
      ]
    },
    {
      "cell_type": "markdown",
      "source": [
        "# 가변 길이 인수 (역전파 편) / (Variable)"
      ],
      "metadata": {
        "id": "7Moq_RFTSheu"
      }
    },
    {
      "cell_type": "markdown",
      "source": [
        "- 가변 길이 인수에 대응한 Add 클래스의 역전파\n",
        "\n",
        "<덧셈 계산 그래프에서 순전파와 역전파>\n",
        "\n",
        "<다변수 함수>\n",
        "\n",
        "여러개의 변수에 대응할 수 있도록 수정"
      ],
      "metadata": {
        "id": "37FB0CZyZf9z"
      }
    },
    {
      "cell_type": "code",
      "source": [
        "class Variable:\n",
        "  def __init__(self, data):\n",
        "    self.data = data\n",
        "    self.grad = None\n",
        "    self.creator = None\n",
        "\n",
        "  def set_creator(self, func):\n",
        "    self.creator = func\n",
        "\n",
        "  def backward(self):\n",
        "    if self.grad is None:\n",
        "      self.grad = np.ones_like(self.data)\n",
        "\n",
        "      funcs = [self.creator]\n",
        "      while funcs:\n",
        "        f = funcs.pop()\n",
        "        gys = [output.grad for output in f.outputs] # 여러 개의 변수에 대응 가능\n",
        "        gxs = f.backward(*gys)\n",
        "        if not isinstance(gxs, tuple):\n",
        "          gxs = (gxs, )\n",
        "\n",
        "        for x, gx in zip(f.inputs, gxs):\n",
        "          x.grad = gx\n",
        "\n",
        "        if x.creator is not None:\n",
        "          funcs.append(x.creator)\n",
        "\n",
        "class Square(Function):\n",
        "  def forward(self,x):\n",
        "    return x **2\n",
        "\n",
        "  def backward(self, gy):\n",
        "    x = self.inputs[0].data\n",
        "    gx = 2 * x * gy\n",
        "    return gx"
      ],
      "metadata": {
        "id": "cLD8tfdESO5H"
      },
      "execution_count": 41,
      "outputs": []
    },
    {
      "cell_type": "code",
      "source": [
        "def add(x0, x1):\n",
        "  return Add()(x0,x1)\n",
        "def square(x):\n",
        "  return Square()(x)\n",
        "\n",
        "# z^2 = x^2 + y^2\n",
        "x = Variable(np.array(2.0))\n",
        "y = Variable(np.array(3.0))\n",
        "z = add(square(x), square(y))\n",
        "z.backward()\n",
        "print(z.data)\n",
        "print(x.grad)\n",
        "print(y.grad)"
      ],
      "metadata": {
        "id": "1bmlWK_3WA_p"
      },
      "execution_count": null,
      "outputs": []
    },
    {
      "cell_type": "markdown",
      "source": [
        "# 같은 변수 반복 사용 문제"
      ],
      "metadata": {
        "id": "Bj7z4EV6Xzzg"
      }
    },
    {
      "cell_type": "markdown",
      "source": [
        "<문제원인>\n",
        "\n",
        "backward에서 출력 쪽에서 전해지는 미분값을 그대로 대입함.\n",
        "\n",
        "같은 변수 반복하여 사용시 전파되는 미분값이 덮어 써짐"
      ],
      "metadata": {
        "id": "nlQyavyBZyws"
      }
    },
    {
      "cell_type": "markdown",
      "source": [
        "<해결책>\n",
        "\n",
        "미분값을 처음 설정하는 경우는 출력에서 전해지는 미분값을 그대로 대입\n",
        "\n",
        "처음 이후 부터는 전달된 미분값을 더해주도록 수정"
      ],
      "metadata": {
        "id": "3r_AyETXZ9lh"
      }
    },
    {
      "cell_type": "code",
      "source": [
        "class Variable:\n",
        "  def __init__(self, data):\n",
        "    self.data = data\n",
        "    self.grad = None\n",
        "    self.creator = None\n",
        "\n",
        "  def set_creator(self, func):\n",
        "    self.creator = func\n",
        "\n",
        "  def backward(self):\n",
        "    if self.grad is None:\n",
        "      self.grad = np.ones_like(self.data)\n",
        "\n",
        "      funcs = [self.creator]\n",
        "      while funcs:\n",
        "        f = funcs.pop()\n",
        "        gys = [output.grad for output in f.outputs] # 여러 개의 변수에 대응 가능\n",
        "        gxs = f.backward(*gys)\n",
        "        if not isinstance(gxs, tuple):\n",
        "          gxs = (gxs, )\n",
        "\n",
        "        for x, gx in zip(f.inputs, gxs):\n",
        "          if x.grad is None: # 미분값(grad)을 처음 설정하는 경우 출력에서 전해지는 미분값으로 대입\n",
        "            x.grad = gx      # 처음 이후 부터는 전달된 미분값을 더해주도록 수정\n",
        "          else:\n",
        "            x.grad = x.grad + gx\n",
        "\n",
        "        if x.creator is not None:\n",
        "          funcs.append(x.creator)\n",
        "\n",
        "class Square(Function):\n",
        "  def forward(self,x):\n",
        "    return x **2\n",
        "\n",
        "  def backward(self, gy):\n",
        "    x = self.inputs[0].data\n",
        "    gx = 2 * x * gy\n",
        "    return gx"
      ],
      "metadata": {
        "id": "jRnCj0NVW3iR"
      },
      "execution_count": 44,
      "outputs": []
    },
    {
      "cell_type": "code",
      "source": [
        "x = Variable(np.array(3.0))\n",
        "y = add(x,x)\n",
        "y.backward()\n",
        "prind(x.grad)"
      ],
      "metadata": {
        "id": "r6fEcKs8YJjd"
      },
      "execution_count": null,
      "outputs": []
    },
    {
      "cell_type": "markdown",
      "source": [
        "미분값 재설정"
      ],
      "metadata": {
        "id": "uZCgyUqGaG2W"
      }
    },
    {
      "cell_type": "markdown",
      "source": [
        "<역전파 시 미분값을 더해주는 코드 문제점>\n",
        "\n",
        "같은 변수를 사용하여 다른 계산을 할 경우 계산이 꼬이는 문제 발생\n",
        "\n",
        "< 해결 방법 >\n",
        "\n",
        "Variable 클래스에 미분값을 초기화 하는 cleargrad 메서드 추가\n",
        "\n",
        "- x.cleargrad()"
      ],
      "metadata": {
        "id": "pUsEV3WTaIhY"
      }
    },
    {
      "cell_type": "markdown",
      "source": [
        "# 복잡한 계산 그래프(이론)\n",
        "\n",
        "지금까지는 일직선 계싼 그래프의 미분 계산\n",
        "\n",
        "복잡하게 연결된 계산 그래프의 미분 계산이 필요\n",
        "\n",
        "<역전파의 올바른 순서>\n",
        "\n",
        "- 복잡하게 연결된 그래프의 올바른 순서"
      ],
      "metadata": {
        "id": "U8FErGeDahsJ"
      }
    },
    {
      "cell_type": "markdown",
      "source": [
        "Variable 클래스의 backward 메서드 구현\n",
        "\n",
        "- Backward 메서드에서 중첩 메서드 add_func 함수 추가\n",
        "\n",
        "- add_func 함수가 함수 리스트를 세대 순으로 정렬하는 역할\n",
        "\n",
        "- 정렬이 되어서 func.pop() 을 수행시 세대가 가장 큰 함수를 꺼냄"
      ],
      "metadata": {
        "id": "7ChamOsNcZ2Q"
      }
    },
    {
      "cell_type": "code",
      "source": [
        "class Variable:\n",
        "  def __init__(self, data):\n",
        "    if data is not None:\n",
        "      if not isinstance(data, np.ndarray):\n",
        "        raise TypeError('{} in not supported'.format(type(data)))\n",
        "\n",
        "    self.data = data\n",
        "    self.grad = None\n",
        "    self.creator = None\n",
        "    self.generation = 0  # generation 을 0으로 초기화\n",
        "\n",
        "  def set_creator(self, func):\n",
        "    self.creator = func\n",
        "    self.generation = func.generation + 1 # set_creator 호출될때 부모 함수의 세대보다 1만큼 큰 값을 설정\n",
        "\n",
        "  def backward(self):\n",
        "    if self.grad is None:\n",
        "      self.grad = np.ones_like(self.data)\n",
        "\n",
        "      funcs = []\n",
        "      seen_set = set()\n",
        "\n",
        "      def add_func(f):\n",
        "        if f not in seen_set:\n",
        "          funcs.append(f)\n",
        "          seen_set.add(f)\n",
        "          funcs.sort(key=lambda x:x.generation)\n",
        "\n",
        "      while funcs:\n",
        "        f = funcs.pop()\n",
        "        gys = [output.grad for output in f.outputs] # 여러 개의 변수에 대응 가능\n",
        "        gxs = f.backward(*gys)\n",
        "        if not isinstance(gxs, tuple):\n",
        "          gxs = (gxs, )\n",
        "\n",
        "        for x, gx in zip(f.inputs, gxs):\n",
        "          if x.grad is None: # 미분값(grad)을 처음 설정하는 경우 출력에서 전해지는 미분값으로 대입\n",
        "            x.grad = gx      # 처음 이후 부터는 전달된 미분값을 더해주도록 수정\n",
        "          else:\n",
        "            x.grad = x.grad + gx\n",
        "\n",
        "        if x.creator is not None:\n",
        "          add_func(x.creator)\n",
        "\n",
        "class Square(Function):\n",
        "  def forward(self,x):\n",
        "    return x **2\n",
        "\n",
        "  def backward(self, gy):\n",
        "    x = self.inputs[0].data\n",
        "    gx = 2 * x * gy\n",
        "    return gx"
      ],
      "metadata": {
        "id": "tjsGvogdYfzS"
      },
      "execution_count": 49,
      "outputs": []
    },
    {
      "cell_type": "markdown",
      "source": [
        "입력 변수가 둘이상이라면 가장 큰 generation 수를 선택"
      ],
      "metadata": {
        "id": "E9AUzMlLb-pv"
      }
    },
    {
      "cell_type": "code",
      "source": [
        "class Function:\n",
        "  def __call__(self, inputs):\n",
        "    xs = [ x.data for x in inputs ]\n",
        "    ys = self.forward(xs)\n",
        "    outputs = [Variable(as_array(y)) for y in ys]\n",
        "\n",
        "    self.generation = max([x.generation for x in inputs]) #\n",
        "    for output in outputs:\n",
        "      output.set_creator(self)\n",
        "      self.inputs = inputs\n",
        "      self.outputs = outputs\n",
        "      return outputs\n",
        "\n",
        "    def forward(self, x):\n",
        "      raise NotImplementedError()\n",
        "\n",
        "    def backward(self, gy):\n",
        "      raise NotImplementedError()\n",
        "\n"
      ],
      "metadata": {
        "id": "-z6cT_cabp_V"
      },
      "execution_count": 48,
      "outputs": []
    },
    {
      "cell_type": "code",
      "source": [],
      "metadata": {
        "id": "LxkLSN7Ibhew"
      },
      "execution_count": null,
      "outputs": []
    }
  ]
}